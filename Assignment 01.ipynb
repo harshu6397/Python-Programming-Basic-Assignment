{
 "cells": [
  {
   "cell_type": "markdown",
   "id": "c8c511bb",
   "metadata": {},
   "source": [
    "Q.1 Write a Python program to print &quot;Hello Python&quot;?"
   ]
  },
  {
   "cell_type": "code",
   "execution_count": 1,
   "id": "69330ee1",
   "metadata": {},
   "outputs": [
    {
     "name": "stdout",
     "output_type": "stream",
     "text": [
      "Hello Wolrd\n"
     ]
    }
   ],
   "source": [
    "# Hello World Program\n",
    "print(\"Hello Wolrd\")"
   ]
  },
  {
   "cell_type": "markdown",
   "id": "1f4cab7c",
   "metadata": {},
   "source": [
    "Q.2 Write a Python program to do arithmetical operations addition and division?"
   ]
  },
  {
   "cell_type": "code",
   "execution_count": 7,
   "id": "a96b8f00",
   "metadata": {},
   "outputs": [
    {
     "name": "stdout",
     "output_type": "stream",
     "text": [
      "Enter the first number: 20\n",
      "Enter the second number: 10\n",
      "The addition is: 30\n",
      "The division is: 2.0\n"
     ]
    }
   ],
   "source": [
    "# Arithmentic operations\n",
    "num1 = int(input(\"Enter the first number: \"))\n",
    "num2 = int(input(\"Enter the second number: \"))\n",
    "\n",
    "# Addition\n",
    "add = num1 + num2\n",
    "print(\"The addition is:\", add)\n",
    "\n",
    "# Division\n",
    "div = num1 / num2\n",
    "print(\"The division is:\", div)"
   ]
  },
  {
   "cell_type": "markdown",
   "id": "9054c792",
   "metadata": {},
   "source": [
    "Q.3 Write a Python program to find the area of a triangle?"
   ]
  },
  {
   "cell_type": "code",
   "execution_count": 8,
   "id": "057edf34",
   "metadata": {},
   "outputs": [
    {
     "name": "stdout",
     "output_type": "stream",
     "text": [
      "Enter the value of base: 10\n",
      "Enter the value of height: 20\n",
      "The area of the triangle is: 100.0\n"
     ]
    }
   ],
   "source": [
    "# Area of a triangle\n",
    "base  = int(input(\"Enter the value of base: \"))\n",
    "height = int(input(\"Enter the value of height: \"))\n",
    "area = 0.5 * base * height\n",
    "print(\"The area of the triangle is:\", area)"
   ]
  },
  {
   "cell_type": "markdown",
   "id": "124235ab",
   "metadata": {},
   "source": [
    "Q.4 Write a Python program to swap two variables?"
   ]
  },
  {
   "cell_type": "code",
   "execution_count": 11,
   "id": "715ce7c6",
   "metadata": {},
   "outputs": [
    {
     "name": "stdout",
     "output_type": "stream",
     "text": [
      "Enter the first number: 2\n",
      "Enter the second number: 3\n",
      "\n",
      "The value of num1 and num2 before swapping is:\n",
      "num1 = 2\n",
      "num2 = 3\n",
      "\n",
      "\n",
      "The value of num1 and num2 after swapping is:\n",
      "num1 = 3\n",
      "num2 = 2\n",
      "\n"
     ]
    }
   ],
   "source": [
    "# Swapping of two numbers\n",
    "num1 = int(input(\"Enter the first number: \"))\n",
    "num2 = int(input(\"Enter the second number: \"))\n",
    "\n",
    "print(f'''\\nThe value of num1 and num2 before swapping is:\n",
    "num1 = {num1}\n",
    "num2 = {num2}\n",
    "''')\n",
    "\n",
    "# Logic\n",
    "temp = num1\n",
    "num1 = num2\n",
    "num2 = temp\n",
    "\n",
    "print(f'''\\nThe value of num1 and num2 after swapping is:\n",
    "num1 = {num1}\n",
    "num2 = {num2}\n",
    "''')"
   ]
  },
  {
   "cell_type": "markdown",
   "id": "c10dbbb1",
   "metadata": {},
   "source": [
    "Q.5 Write a Python program to generate a random number?"
   ]
  },
  {
   "cell_type": "code",
   "execution_count": 42,
   "id": "0e37e0aa",
   "metadata": {},
   "outputs": [
    {
     "name": "stdout",
     "output_type": "stream",
     "text": [
      "The random number between 1 and 100 is: 877\n"
     ]
    }
   ],
   "source": [
    "# Generate Random Number\n",
    "import random\n",
    "\n",
    "num = random.randint(1,1000)\n",
    "print(\"The random number between 1 and 100 is:\", num)"
   ]
  }
 ],
 "metadata": {
  "kernelspec": {
   "display_name": "Python 3 (ipykernel)",
   "language": "python",
   "name": "python3"
  },
  "language_info": {
   "codemirror_mode": {
    "name": "ipython",
    "version": 3
   },
   "file_extension": ".py",
   "mimetype": "text/x-python",
   "name": "python",
   "nbconvert_exporter": "python",
   "pygments_lexer": "ipython3",
   "version": "3.9.7"
  }
 },
 "nbformat": 4,
 "nbformat_minor": 5
}
