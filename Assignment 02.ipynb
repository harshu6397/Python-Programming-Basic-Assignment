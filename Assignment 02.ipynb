{
 "cells": [
  {
   "cell_type": "markdown",
   "id": "95b61e9e",
   "metadata": {},
   "source": [
    "Q.1 What are the two values of the Boolean data type? How do you write them?\n",
    "\n",
    "<b>Answer: </b>The two values of the Boolean data types are True(1) and False(0). The true value is written as <b>True</b> and the false value is written as <b>False</b>."
   ]
  },
  {
   "cell_type": "code",
   "execution_count": 1,
   "id": "087675ea",
   "metadata": {},
   "outputs": [
    {
     "name": "stdout",
     "output_type": "stream",
     "text": [
      "True\n",
      "False\n"
     ]
    }
   ],
   "source": [
    "# Values of Boolean Variable\n",
    "print(True)\n",
    "print(False)"
   ]
  },
  {
   "cell_type": "markdown",
   "id": "9b8b43b2",
   "metadata": {},
   "source": [
    "Q.2 What are the three different types of Boolean operators?\n",
    "\n",
    "<b>Answer: </b>The three Boolean operators are:<br>\n",
    "* <b>and</b> --> True only when all the values are true\n",
    "* <b>or</b> --> False only when all the values are false\n",
    "* <b>not</b> --> Converts true as false and false as true"
   ]
  },
  {
   "cell_type": "code",
   "execution_count": 2,
   "id": "dc9f3765",
   "metadata": {},
   "outputs": [
    {
     "name": "stdout",
     "output_type": "stream",
     "text": [
      "False\n",
      "True\n",
      "True\n"
     ]
    }
   ],
   "source": [
    "# Boolean Operator\n",
    "\n",
    "print(True and True and False)\n",
    "print(True or True or False)\n",
    "print(not False)"
   ]
  },
  {
   "cell_type": "markdown",
   "id": "76ea8aa6",
   "metadata": {},
   "source": [
    "Q.3 Make a list of each Boolean operator's truth tables (i.e. every possible combination of Boolean values for the operator and what it evaluate )."
   ]
  },
  {
   "cell_type": "code",
   "execution_count": 3,
   "id": "62317028",
   "metadata": {},
   "outputs": [
    {
     "name": "stdout",
     "output_type": "stream",
     "text": [
      "              The Truth Table of AND               \n",
      "\n",
      "              X         Y       X AND Y\n",
      "\n",
      "            False  |  False   |  False\n",
      "\n",
      "            False  |  True    |  False\n",
      "\n",
      "            True   |  False   |  False\n",
      "\n",
      "            True   |  True    |  True\n"
     ]
    }
   ],
   "source": [
    "# Truth table of and\n",
    "\n",
    "lst = [False, True]\n",
    "\n",
    "print(f\"              The Truth Table of AND               \\n\")\n",
    "print(f\"              X         Y       X AND Y\")\n",
    "for i in lst:\n",
    "    for j in lst:\n",
    "        if i == True and j == True:\n",
    "            print(f'''\n",
    "            {i}   |  {j}    |  {i and j}''')\n",
    "        elif i == True:\n",
    "            print(f'''\n",
    "            {i}   |  {j}   |  {i and j}''')\n",
    "        elif i == False and j == True:\n",
    "            print(f'''\n",
    "            {i}  |  {j}    |  {i and j}''')\n",
    "        else:\n",
    "            print(f'''\n",
    "            {i}  |  {j}   |  {i and j}''')"
   ]
  },
  {
   "cell_type": "code",
   "execution_count": 4,
   "id": "2df05915",
   "metadata": {},
   "outputs": [
    {
     "name": "stdout",
     "output_type": "stream",
     "text": [
      "              The Truth Table of OR                 \n",
      "\n",
      "              X         Y       X OR Y\n",
      "\n",
      "            False  |  False   |  False\n",
      "\n",
      "            False  |  True    |  True\n",
      "\n",
      "            True   |  False   |  True\n",
      "\n",
      "            True   |  True    |  True\n"
     ]
    }
   ],
   "source": [
    "# Truth table of or\n",
    "\n",
    "lst = [False, True]\n",
    "\n",
    "print(f\"              The Truth Table of OR                 \\n\")\n",
    "print(f\"              X         Y       X OR Y\")\n",
    "for i in lst:\n",
    "    for j in lst:\n",
    "        if i == True and j == True:\n",
    "            print(f'''\n",
    "            {i}   |  {j}    |  {i or j}''')\n",
    "        elif i == True:\n",
    "            print(f'''\n",
    "            {i}   |  {j}   |  {i or j}''')\n",
    "        elif i == False and j == True:\n",
    "            print(f'''\n",
    "            {i}  |  {j}    |  {i or j}''')\n",
    "        else:\n",
    "            print(f'''\n",
    "            {i}  |  {j}   |  {i or j}''')"
   ]
  },
  {
   "cell_type": "code",
   "execution_count": 5,
   "id": "e1980931",
   "metadata": {},
   "outputs": [
    {
     "name": "stdout",
     "output_type": "stream",
     "text": [
      "      The Truth Table of NOT      \n",
      "\n",
      "          X        NOT X\n",
      " \n",
      "        False  |   True\n",
      " \n",
      "        True   |   False\n"
     ]
    }
   ],
   "source": [
    "# Truth table of or\n",
    "\n",
    "lst = [False, True]\n",
    "\n",
    "print(f\"      The Truth Table of NOT      \\n\")\n",
    "print(f\"          X        NOT X\")\n",
    "for i in lst:\n",
    "    if i == True:\n",
    "        print(f''' \n",
    "        {i}   |   {not i}''')  \n",
    "    else:\n",
    "        print(f''' \n",
    "        {i}  |   {not i}''') "
   ]
  },
  {
   "cell_type": "markdown",
   "id": "34f6f924",
   "metadata": {},
   "source": [
    "Q.4 What are the values of the following expressions?<br>\n",
    "(5 > 4) and (3 == 5)<br>\n",
    "not (5 > 4)<br>\n",
    "(5 > 4) or (3 == 5)<br>\n",
    "not ((5 > 4) or (3 == 5))<br>\n",
    "(True and True) and (True == False)<br>\n",
    "(not False) or (not True)\n",
    "\n",
    "<b>Answer: </b>The values of the Expressions are: \n",
    "- (5 > 4) and (3 == 5) --> <b>False</b> because the first condition is True but the second condition is False as and operator is only True when all the conditions are True<br><br>\n",
    " \n",
    "- not (5 > 4) --> <b>False</b> because the condition is True but not operator reversed the condition as False <br><br>\n",
    "\n",
    "- (5 > 4) or (3 == 5) --> <b>True</b> because the first condition is True but the second condition is False as or operator is only False when all the conditions are False<br><br>\n",
    "\n",
    "- not ((5 > 4) or (3 == 5)) --> <b>False</b> because the not operator reversed the condition as False<br><br>\n",
    "\n",
    "- (True and True) and (True == False) --> <b>False</b> because the first condition is True but the second condition is False as and operator is only True when all the conditions are True<br><br>\n",
    "\n",
    "- (not False) or (not True) --> <b>True</b> because because the first condition is True but the second condition is False as or operator is only False when all the conditions are False"
   ]
  },
  {
   "cell_type": "markdown",
   "id": "65d77511",
   "metadata": {},
   "source": [
    "Q.5 What are the six comparison operators?\n",
    "\n",
    "<b>Answer: </b>The six comparison operators are:<br>\n",
    "\n",
    "<ul>\n",
    "    <li>== (Equal to Operator)</li>\n",
    "    <li>!= (Not equal to Operator)</li>\n",
    "    <li>< (Less than Operator)</li>\n",
    "    <li><= (Less than or equal to Operator)</li>\n",
    "    <li>> (Greater than Operator)</li>\n",
    "    <li>>= (Greater than or equal to Operator)</li>\n",
    "</ul>"
   ]
  },
  {
   "cell_type": "markdown",
   "id": "b15d7996",
   "metadata": {},
   "source": [
    "Q.6 How do you tell the difference between the equal to and assignment operators? Describe a condition and when you would use one.\n",
    "\n",
    "<b>Answer: </b>The difference between the eqaul to and the assignment operator is that assigenment operator is used <b><i> to assign the right hand side value to the left hand side </i></b>whereas the equal operator is used <b><i>to check whether two value are equal or not and eqaul to always return a boolean value</i></b>.<br>\n",
    "\n",
    "Eg: val = 25, Here = is the assignment operator which assign the 25 value to the val variable and 2 == 1, here == is the equal to operator it is check whether 2 is eqaul to 1 or not. "
   ]
  },
  {
   "cell_type": "code",
   "execution_count": 6,
   "id": "fdc6f8a6",
   "metadata": {},
   "outputs": [
    {
     "data": {
      "text/plain": [
       "False"
      ]
     },
     "execution_count": 6,
     "metadata": {},
     "output_type": "execute_result"
    }
   ],
   "source": [
    "# Assignment Operator\n",
    "val = 63 # Here = is the assignment operator\n",
    "\n",
    "52 == 65 # Here == is the equal to operator"
   ]
  },
  {
   "cell_type": "markdown",
   "id": "9e0bcbd1",
   "metadata": {},
   "source": [
    "Q.7  Identify the three blocks in this code:<br>\n",
    "spam = 0 <br>\n",
    "if spam == 10:<br>\n",
    "    print('eggs')<br>\n",
    "if spam > 5:<br>\n",
    "    print('bacon')<br>\n",
    "else:<br>\n",
    "print('ham')<br>\n",
    "print('spam')<br>\n",
    "print('spam')\n",
    "\n",
    "<b>Answer: </b>There are three blocks of code:<br>\n",
    "\n",
    "<ul>\n",
    "    <li><b>First block:</b><br>\n",
    "        if spam == 10:<br>\n",
    "        print('eggs')\n",
    "    </li>\n",
    "    <li><b>Second block:</b><br>\n",
    "        if spam > 5:<br>\n",
    "        print('bacon')\n",
    "    </li>\n",
    "    <li><b>Third block:</b><br>\n",
    "        else:<br>\n",
    "        print('ham')<br>\n",
    "    </li>\n",
    "</ul>"
   ]
  },
  {
   "cell_type": "markdown",
   "id": "7f61c738",
   "metadata": {},
   "source": [
    "Q.8 Write code that prints Hello if 1 is stored in spam, prints Howdy if 2 is stored in spam, and prints Greetings! if anything else is stored in spam."
   ]
  },
  {
   "cell_type": "code",
   "execution_count": 7,
   "id": "d9aec4d9",
   "metadata": {},
   "outputs": [
    {
     "name": "stdout",
     "output_type": "stream",
     "text": [
      "Enter the value of spam: 2\n",
      "Howdy\n"
     ]
    }
   ],
   "source": [
    "spam = int(input(\"Enter the value of spam: \"))\n",
    "\n",
    "if spam == 1:\n",
    "    print(\"Hello\")\n",
    "elif spam == 2:\n",
    "    print(\"Howdy\")\n",
    "else:\n",
    "    print(\"Greetings!\")"
   ]
  },
  {
   "cell_type": "markdown",
   "id": "c562fe1b",
   "metadata": {},
   "source": [
    "Q.9 If your programme is stuck in an endless loop, what keys you’ll press?\n",
    "\n",
    "<b>Answer: </b>If the programme is stuck in an endless loop, We can stop the endless or infinite loop with CTRL + C."
   ]
  },
  {
   "cell_type": "markdown",
   "id": "a4cd0098",
   "metadata": {},
   "source": [
    "Q.10 How can you tell the difference between break and continue?"
   ]
  },
  {
   "cell_type": "markdown",
   "id": "7a7346a0",
   "metadata": {},
   "source": [
    "<b>Answer: </b>The <i>break</i> and <i>continue</i> both are loop control statements. <b><i>break</i></b> statement is used to break the loop and come out from the loop whereas the <b><i>continue</i></b> statement is used to skip particular iterations."
   ]
  },
  {
   "cell_type": "code",
   "execution_count": 8,
   "id": "ccb51415",
   "metadata": {},
   "outputs": [
    {
     "name": "stdout",
     "output_type": "stream",
     "text": [
      "Inside the loop and i is 0\n",
      "Inside the loop and i is 1\n",
      "Inside the loop and i is 2\n",
      "Inside the loop and i is 3\n",
      "Inside the loop and i is 4\n",
      "Outside the loop\n"
     ]
    }
   ],
   "source": [
    "# Break Statement\n",
    "for i in range(10):\n",
    "    # when i == 5, the control come out from the loop \n",
    "    if i == 5:\n",
    "        break \n",
    "    print(f\"Inside the loop and i is {i}\")\n",
    "print(\"Outside the loop\")"
   ]
  },
  {
   "cell_type": "code",
   "execution_count": 9,
   "id": "0c1fc72c",
   "metadata": {},
   "outputs": [
    {
     "name": "stdout",
     "output_type": "stream",
     "text": [
      "Inside the loop and i is 0\n",
      "Inside the loop and i is 1\n",
      "Inside the loop and i is 2\n",
      "Inside the loop and i is 3\n",
      "Inside the loop and i is 4\n",
      "Inside the loop and i is 6\n",
      "Inside the loop and i is 7\n",
      "Inside the loop and i is 8\n",
      "Inside the loop and i is 9\n",
      "Outside the loop\n"
     ]
    }
   ],
   "source": [
    "# Continue Statement\n",
    "for i in range(10):\n",
    "    # when i == 5, the control will go to the next iteration and skip the iteration 5 \n",
    "    if i == 5:\n",
    "        continue\n",
    "    print(f\"Inside the loop and i is {i}\")\n",
    "print(\"Outside the loop\")"
   ]
  },
  {
   "cell_type": "markdown",
   "id": "0c174860",
   "metadata": {},
   "source": [
    "Q.11 In a for loop, what is the difference between range(10), range(0, 10), and range(0, 10, 1)?\n",
    "\n",
    "<b>Answer: </b> There is the only difference in the syntax range(10), range(0, 10), and range(0, 10, 1). All three declaration of range function do the same thing because the range function range(start, end, step) takes there arguments but the start and step is the optional arguments, they are fixed by default as start = 0, step = 1."
   ]
  },
  {
   "cell_type": "code",
   "execution_count": 10,
   "id": "91e497c0",
   "metadata": {},
   "outputs": [
    {
     "name": "stdout",
     "output_type": "stream",
     "text": [
      "0\n",
      "1\n",
      "2\n",
      "3\n",
      "4\n",
      "5\n",
      "6\n",
      "7\n",
      "8\n",
      "9\n"
     ]
    }
   ],
   "source": [
    "for i in range(10):\n",
    "    print(i)"
   ]
  },
  {
   "cell_type": "code",
   "execution_count": 11,
   "id": "9cf7c39b",
   "metadata": {},
   "outputs": [
    {
     "name": "stdout",
     "output_type": "stream",
     "text": [
      "0\n",
      "1\n",
      "2\n",
      "3\n",
      "4\n",
      "5\n",
      "6\n",
      "7\n",
      "8\n",
      "9\n"
     ]
    }
   ],
   "source": [
    "for i in range(0,10):\n",
    "    print(i)"
   ]
  },
  {
   "cell_type": "code",
   "execution_count": 12,
   "id": "1664bb52",
   "metadata": {},
   "outputs": [
    {
     "name": "stdout",
     "output_type": "stream",
     "text": [
      "0\n",
      "1\n",
      "2\n",
      "3\n",
      "4\n",
      "5\n",
      "6\n",
      "7\n",
      "8\n",
      "9\n"
     ]
    }
   ],
   "source": [
    "for i in range(0,10,1):\n",
    "    print(i)"
   ]
  },
  {
   "cell_type": "markdown",
   "id": "7e774a66",
   "metadata": {},
   "source": [
    "Q.12 Write a short program that prints the numbers 1 to 10 using a for loop. Then write an equivalent\n",
    "program that prints the numbers 1 to 10 using a while loop."
   ]
  },
  {
   "cell_type": "code",
   "execution_count": 13,
   "id": "6b9151d9",
   "metadata": {},
   "outputs": [
    {
     "name": "stdout",
     "output_type": "stream",
     "text": [
      "1\n",
      "2\n",
      "3\n",
      "4\n",
      "5\n",
      "6\n",
      "7\n",
      "8\n",
      "9\n",
      "10\n"
     ]
    }
   ],
   "source": [
    "# for loop\n",
    "for i in range(1,11):\n",
    "    print(i)"
   ]
  },
  {
   "cell_type": "code",
   "execution_count": 14,
   "id": "d5f98bb6",
   "metadata": {},
   "outputs": [
    {
     "name": "stdout",
     "output_type": "stream",
     "text": [
      "1\n",
      "2\n",
      "3\n",
      "4\n",
      "5\n",
      "6\n",
      "7\n",
      "8\n",
      "9\n",
      "10\n"
     ]
    }
   ],
   "source": [
    "# while loop\n",
    "i = 1\n",
    "while(i <= 10):\n",
    "    print(i)\n",
    "    i += 1"
   ]
  },
  {
   "cell_type": "markdown",
   "id": "0537e60d",
   "metadata": {},
   "source": [
    "Q.13 If you had a function named bacon() inside a module named spam, how would you call it after\n",
    "importing spam?\n",
    "\n",
    "<b>Answer: </b> <br>\n",
    "import spam<br>\n",
    "spam.bacon()"
   ]
  },
  {
   "cell_type": "code",
   "execution_count": 15,
   "id": "4e83e998",
   "metadata": {},
   "outputs": [],
   "source": [
    "import spam\n",
    "spam.bacon()"
   ]
  }
 ],
 "metadata": {
  "kernelspec": {
   "display_name": "Python 3 (ipykernel)",
   "language": "python",
   "name": "python3"
  },
  "language_info": {
   "codemirror_mode": {
    "name": "ipython",
    "version": 3
   },
   "file_extension": ".py",
   "mimetype": "text/x-python",
   "name": "python",
   "nbconvert_exporter": "python",
   "pygments_lexer": "ipython3",
   "version": "3.9.7"
  }
 },
 "nbformat": 4,
 "nbformat_minor": 5
}
