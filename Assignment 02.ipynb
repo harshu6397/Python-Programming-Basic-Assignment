{
 "cells": [
  {
   "cell_type": "markdown",
   "id": "0fe146af",
   "metadata": {},
   "source": [
    "Q.1 Write a Python program to convert kilometers to miles?"
   ]
  },
  {
   "cell_type": "code",
   "execution_count": 1,
   "id": "485a7f45",
   "metadata": {},
   "outputs": [
    {
     "name": "stdout",
     "output_type": "stream",
     "text": [
      "Enter the Kilometers: 5\n",
      "5 km to equivalent to 3.106855 miles\n"
     ]
    }
   ],
   "source": [
    "# KM to Miles\n",
    "\n",
    "km = int(input(\"Enter the Kilometers: \"))\n",
    "miles = km * 0.621371\n",
    "print(f\"{km} km to equivalent to {miles} miles\")"
   ]
  },
  {
   "cell_type": "markdown",
   "id": "df40cca3",
   "metadata": {},
   "source": [
    "Q.2 Write a Python program to convert Celsius to Fahrenheit?"
   ]
  },
  {
   "cell_type": "code",
   "execution_count": 2,
   "id": "0be9fd19",
   "metadata": {},
   "outputs": [
    {
     "name": "stdout",
     "output_type": "stream",
     "text": [
      "Enter the temperature in celcius: 20\n",
      "The temperature in Fahernheit is:  68.0\n"
     ]
    }
   ],
   "source": [
    "# Celsius to Fahrenheit\n",
    "\n",
    "celcius = int(input(\"Enter the temperature in celcius: \"))\n",
    "fahrenheit = (celcius * 9/5) + 32\n",
    "print(\"The temperature in Fahernheit is: \", fahrenheit)"
   ]
  },
  {
   "cell_type": "markdown",
   "id": "d2fdd12b",
   "metadata": {},
   "source": [
    "Q.3 Write a Python program to display calendar?"
   ]
  },
  {
   "cell_type": "code",
   "execution_count": 3,
   "id": "debbc920",
   "metadata": {},
   "outputs": [
    {
     "name": "stdout",
     "output_type": "stream",
     "text": [
      "Enter the year whose calender you want to display: 2022\n",
      "The calender of 2022 is: \n",
      "                                  2022\n",
      "\n",
      "      January                   February                   March\n",
      "Mo Tu We Th Fr Sa Su      Mo Tu We Th Fr Sa Su      Mo Tu We Th Fr Sa Su\n",
      "                1  2          1  2  3  4  5  6          1  2  3  4  5  6\n",
      " 3  4  5  6  7  8  9       7  8  9 10 11 12 13       7  8  9 10 11 12 13\n",
      "10 11 12 13 14 15 16      14 15 16 17 18 19 20      14 15 16 17 18 19 20\n",
      "17 18 19 20 21 22 23      21 22 23 24 25 26 27      21 22 23 24 25 26 27\n",
      "24 25 26 27 28 29 30      28                        28 29 30 31\n",
      "31\n",
      "\n",
      "       April                      May                       June\n",
      "Mo Tu We Th Fr Sa Su      Mo Tu We Th Fr Sa Su      Mo Tu We Th Fr Sa Su\n",
      "             1  2  3                         1             1  2  3  4  5\n",
      " 4  5  6  7  8  9 10       2  3  4  5  6  7  8       6  7  8  9 10 11 12\n",
      "11 12 13 14 15 16 17       9 10 11 12 13 14 15      13 14 15 16 17 18 19\n",
      "18 19 20 21 22 23 24      16 17 18 19 20 21 22      20 21 22 23 24 25 26\n",
      "25 26 27 28 29 30         23 24 25 26 27 28 29      27 28 29 30\n",
      "                          30 31\n",
      "\n",
      "        July                     August                  September\n",
      "Mo Tu We Th Fr Sa Su      Mo Tu We Th Fr Sa Su      Mo Tu We Th Fr Sa Su\n",
      "             1  2  3       1  2  3  4  5  6  7                1  2  3  4\n",
      " 4  5  6  7  8  9 10       8  9 10 11 12 13 14       5  6  7  8  9 10 11\n",
      "11 12 13 14 15 16 17      15 16 17 18 19 20 21      12 13 14 15 16 17 18\n",
      "18 19 20 21 22 23 24      22 23 24 25 26 27 28      19 20 21 22 23 24 25\n",
      "25 26 27 28 29 30 31      29 30 31                  26 27 28 29 30\n",
      "\n",
      "      October                   November                  December\n",
      "Mo Tu We Th Fr Sa Su      Mo Tu We Th Fr Sa Su      Mo Tu We Th Fr Sa Su\n",
      "                1  2          1  2  3  4  5  6                1  2  3  4\n",
      " 3  4  5  6  7  8  9       7  8  9 10 11 12 13       5  6  7  8  9 10 11\n",
      "10 11 12 13 14 15 16      14 15 16 17 18 19 20      12 13 14 15 16 17 18\n",
      "17 18 19 20 21 22 23      21 22 23 24 25 26 27      19 20 21 22 23 24 25\n",
      "24 25 26 27 28 29 30      28 29 30                  26 27 28 29 30 31\n",
      "31\n",
      "\n"
     ]
    }
   ],
   "source": [
    "# Display a Calender\n",
    "import calendar\n",
    "\n",
    "year = int(input(\"Enter the year whose calender you want to display: \"))\n",
    "cal = calendar.calendar(year)\n",
    "print(f\"The calender of {year} is: \\n{cal}\")"
   ]
  },
  {
   "cell_type": "markdown",
   "id": "3b015d1e",
   "metadata": {},
   "source": [
    "Q.4 Write a Python program to solve quadratic equation?"
   ]
  },
  {
   "cell_type": "code",
   "execution_count": 4,
   "id": "d05c4975",
   "metadata": {},
   "outputs": [
    {
     "name": "stdout",
     "output_type": "stream",
     "text": [
      "Enter the cofficient of x^2: 1\n",
      "Enter the cofficient of x: 8\n",
      "Enter the constant term: -84\n",
      "The two roots of the equation are: 6.0 and -14.0\n"
     ]
    }
   ],
   "source": [
    "import math\n",
    "\n",
    "# Solution of Quadratic equation\n",
    "a = int(input(\"Enter the cofficient of x^2: \"))\n",
    "b = int(input(\"Enter the cofficient of x: \"))\n",
    "c = int(input(\"Enter the constant term: \"))\n",
    "\n",
    "# Logic\n",
    "discriminant = (b * b) - (4 * a * c)\n",
    "if discriminant > 0:\n",
    "    # Two real roots exists\n",
    "    x1 = (-b + math.sqrt(discriminant))/2*a\n",
    "    x2 = (-b - math.sqrt(discriminant))/2*a\n",
    "    print(f\"The two roots of the equation are: {x1} and {x2}\")\n",
    "    \n",
    "elif discriminant == 0:\n",
    "    # One real root exists\n",
    "    x1 = (-b + math.sqrt(discriminant))/2*a\n",
    "    print(f\"The two common root of the equation is: {x1}\")\n",
    "\n",
    "else:\n",
    "    # No real roots exists\n",
    "    print(\"No real solution exists!\")"
   ]
  },
  {
   "cell_type": "markdown",
   "id": "3c2ac238",
   "metadata": {},
   "source": [
    "Q.5 Write a Python program to swap two variables without temp variable?"
   ]
  },
  {
   "cell_type": "code",
   "execution_count": 5,
   "id": "8ac8c084",
   "metadata": {},
   "outputs": [
    {
     "name": "stdout",
     "output_type": "stream",
     "text": [
      "Enter the first number: 6\n",
      "Enter the second number: 9\n",
      "\n",
      "The value of num1 and num2 before swapping is:\n",
      "num1 = 6\n",
      "num2 = 9\n",
      "\n",
      "\n",
      "The value of num1 and num2 after swapping is:\n",
      "num1 = 9\n",
      "num2 = 6\n",
      "\n"
     ]
    }
   ],
   "source": [
    "# Swapping of two numbers without using temperory variable\n",
    "num1 = int(input(\"Enter the first number: \"))\n",
    "num2 = int(input(\"Enter the second number: \"))\n",
    "\n",
    "print(f'''\\nThe value of num1 and num2 before swapping is:\n",
    "num1 = {num1}\n",
    "num2 = {num2}\n",
    "''')\n",
    "\n",
    "# Logic 01\n",
    "# num1 = num1 + num2\n",
    "# num2 = num1 - num2\n",
    "# num1 = num1 - num2\n",
    "\n",
    "# Logic 02\n",
    "# num1 = num1 * num2\n",
    "# num2 = num1 // num2\n",
    "# num1 = num1 // num2\n",
    "\n",
    "# logic 03\n",
    "num1, num2 = num2, num1\n",
    "\n",
    "print(f'''\\nThe value of num1 and num2 after swapping is:\n",
    "num1 = {num1}\n",
    "num2 = {num2}\n",
    "''')"
   ]
  }
 ],
 "metadata": {
  "kernelspec": {
   "display_name": "Python 3 (ipykernel)",
   "language": "python",
   "name": "python3"
  },
  "language_info": {
   "codemirror_mode": {
    "name": "ipython",
    "version": 3
   },
   "file_extension": ".py",
   "mimetype": "text/x-python",
   "name": "python",
   "nbconvert_exporter": "python",
   "pygments_lexer": "ipython3",
   "version": "3.9.7"
  }
 },
 "nbformat": 4,
 "nbformat_minor": 5
}
