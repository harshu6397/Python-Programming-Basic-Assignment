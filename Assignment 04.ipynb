{
 "cells": [
  {
   "cell_type": "markdown",
   "id": "f50c3f6f",
   "metadata": {},
   "source": [
    "Q.1 Write a Python Program to Find the Factorial of a Number?"
   ]
  },
  {
   "cell_type": "code",
   "execution_count": 1,
   "id": "a7f0a4ad",
   "metadata": {},
   "outputs": [
    {
     "name": "stdout",
     "output_type": "stream",
     "text": [
      "Enter a number: 5\n",
      "The factorial of 5 is: 120\n"
     ]
    }
   ],
   "source": [
    "def factorial(num):\n",
    "    '''Calculate the Factorial of a number'''\n",
    "    fact = 1\n",
    "    for i in range(2, num+1):\n",
    "        fact = fact*i\n",
    "    return fact\n",
    "\n",
    "n = int(input(\"Enter a number: \"))\n",
    "print(f\"The factorial of {n} is: {factorial(n)}\")"
   ]
  },
  {
   "cell_type": "markdown",
   "id": "a51dc943",
   "metadata": {},
   "source": [
    "Q.2 Write a Python Program to Display the multiplication Table?"
   ]
  },
  {
   "cell_type": "code",
   "execution_count": 2,
   "id": "c81e015e",
   "metadata": {},
   "outputs": [
    {
     "name": "stdout",
     "output_type": "stream",
     "text": [
      "Enter a number: 6\n",
      "5 * 1 = 5\n",
      "5 * 2 = 10\n",
      "5 * 3 = 15\n",
      "5 * 4 = 20\n",
      "5 * 5 = 25\n",
      "5 * 6 = 30\n",
      "5 * 7 = 35\n",
      "5 * 8 = 40\n",
      "5 * 9 = 45\n",
      "5 * 10 = 50\n"
     ]
    }
   ],
   "source": [
    "def muliplicationTable(num):\n",
    "    '''Calcluate the Multiplication Table of a Number'''\n",
    "    for i in range(1, 11):\n",
    "        print(f\"{num} * {i} = {num * i}\")\n",
    "        \n",
    "n = int(input(\"Enter a number: \"))\n",
    "muliplicationTable(5)"
   ]
  },
  {
   "cell_type": "markdown",
   "id": "e2280a6a",
   "metadata": {},
   "source": [
    "Q.3 Write a Python Program to Print the Fibonacci sequence?"
   ]
  },
  {
   "cell_type": "code",
   "execution_count": 3,
   "id": "5d955761",
   "metadata": {},
   "outputs": [
    {
     "name": "stdout",
     "output_type": "stream",
     "text": [
      "0 1 1 2 3 5 8 13 21 34 "
     ]
    }
   ],
   "source": [
    "def fibonacci(num = 10):\n",
    "    '''Display the Fibonacci Series of Numbers'''\n",
    "    first_elt = 0\n",
    "    second_elt = 1\n",
    "    for i in range(num):\n",
    "        if i == 0 or i == 1:\n",
    "            print(i, end=\" \")\n",
    "        else:\n",
    "            next_elt = first_elt + second_elt\n",
    "            print(next_elt, end=\" \")\n",
    "            first_elt = second_elt\n",
    "            second_elt = next_elt\n",
    "\n",
    "fibonacci()"
   ]
  },
  {
   "cell_type": "markdown",
   "id": "3425bd8b",
   "metadata": {},
   "source": [
    "Q.4 Write a Python Program to Check Armstrong Number?"
   ]
  },
  {
   "cell_type": "code",
   "execution_count": 4,
   "id": "23205a74",
   "metadata": {},
   "outputs": [
    {
     "name": "stdout",
     "output_type": "stream",
     "text": [
      "Enter a number: 153\n",
      "153 is a armstrong number!\n"
     ]
    }
   ],
   "source": [
    "def is_armstrong(num):\n",
    "    '''Check whether a number is Armstrong or not'''\n",
    "    num_of_digit = len(str(num))\n",
    "    s = 0\n",
    "    while num > 0:\n",
    "        digit = num % 10\n",
    "        s = s + digit ** num_of_digit\n",
    "        num = num//10\n",
    "    return s\n",
    "    \n",
    "n = int(input(\"Enter a number: \"))\n",
    "if is_armstrong(n) == n:\n",
    "    print(f\"{n} is a armstrong number!\")\n",
    "else:\n",
    "    print(f\"{n} is not a armstrong number!\")"
   ]
  },
  {
   "cell_type": "markdown",
   "id": "67c8f944",
   "metadata": {},
   "source": [
    "Q.5 Write a Python Program to Find Armstrong Number in an Interval?"
   ]
  },
  {
   "cell_type": "code",
   "execution_count": 5,
   "id": "6e3ca25d",
   "metadata": {},
   "outputs": [
    {
     "name": "stdout",
     "output_type": "stream",
     "text": [
      "The Armstrong Number between 1 and 10000 are: \n",
      "1 2 3 4 5 6 7 8 9 153 370 371 407 1634 8208 9474 "
     ]
    }
   ],
   "source": [
    "def armstrong_numbers(lower_limit = 1, upper_limit = 10000):\n",
    "    '''Display the Armstrong Numbers in an intervl'''\n",
    "    print(f\"The Armstrong Number between {lower_limit} and {upper_limit} are: \")\n",
    "    for i in range(lower_limit, upper_limit+1):\n",
    "        num = i\n",
    "        num_of_digit = len(str(num))\n",
    "        s = 0\n",
    "        while num > 0:\n",
    "            digit = num % 10\n",
    "            s = s + digit ** num_of_digit\n",
    "            num = num//10\n",
    "        if(i == s):\n",
    "            print(i, end=\" \")\n",
    "\n",
    "armstrong_numbers()        "
   ]
  },
  {
   "cell_type": "markdown",
   "id": "e992efb7",
   "metadata": {},
   "source": [
    "Q.6 Write a Python Program to Find the Sum of Natural Numbers?"
   ]
  },
  {
   "cell_type": "code",
   "execution_count": 6,
   "id": "187b2b95",
   "metadata": {},
   "outputs": [
    {
     "name": "stdout",
     "output_type": "stream",
     "text": [
      "Enter the number: 10\n",
      "The sum of 10 natural numbers is: 55\n"
     ]
    }
   ],
   "source": [
    "def sum_of_natural_numbers(num):\n",
    "    s = 0\n",
    "    for i in range(1, num+1):\n",
    "        s += i\n",
    "    return s\n",
    "\n",
    "n = int(input(\"Enter the number: \"))\n",
    "print(f\"The sum of {n} natural numbers is: {sum_of_natural_numbers(n)}\")"
   ]
  },
  {
   "cell_type": "code",
   "execution_count": null,
   "id": "88925e26",
   "metadata": {},
   "outputs": [],
   "source": []
  }
 ],
 "metadata": {
  "kernelspec": {
   "display_name": "Python 3 (ipykernel)",
   "language": "python",
   "name": "python3"
  },
  "language_info": {
   "codemirror_mode": {
    "name": "ipython",
    "version": 3
   },
   "file_extension": ".py",
   "mimetype": "text/x-python",
   "name": "python",
   "nbconvert_exporter": "python",
   "pygments_lexer": "ipython3",
   "version": "3.9.7"
  }
 },
 "nbformat": 4,
 "nbformat_minor": 5
}
